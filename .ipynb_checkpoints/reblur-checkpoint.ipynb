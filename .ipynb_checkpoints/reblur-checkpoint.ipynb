{
 "cells": [
  {
   "cell_type": "code",
   "execution_count": 2,
   "metadata": {},
   "outputs": [],
   "source": [
    "import cv2\n",
    "import numpy as np\n",
    "from importnb import Notebook\n",
    "import matplotlib.pyplot as plt\n",
    "import numpy.fft as fft\n",
    "import numpy.matlib"
   ]
  },
  {
   "cell_type": "code",
   "execution_count": 3,
   "metadata": {},
   "outputs": [
    {
     "name": "stdout",
     "output_type": "stream",
     "text": [
      "check file path\n"
     ]
    }
   ],
   "source": [
    "with Notebook(): \n",
    "        import utils"
   ]
  },
  {
   "cell_type": "code",
   "execution_count": 4,
   "metadata": {},
   "outputs": [],
   "source": [
    "def rotateImage(image, angle):\n",
    "    image_center = tuple(np.array(image.shape[1::-1]) / 2)\n",
    "    rot_mat = cv2.getRotationMatrix2D(image_center, angle, 1.0)\n",
    "    return cv2.warpAffine(image, rot_mat, image.shape[1::-1], flags=cv2.INTER_LINEAR)"
   ]
  },
  {
   "cell_type": "code",
   "execution_count": null,
   "metadata": {},
   "outputs": [],
   "source": [
    "def findKernel(img):\n",
    "    mse = 1000\n",
    "    for r in range(5, 15, 10):\n",
    "        for theta in range(0, 360, 400):\n",
    "            kernel = np.zeros((r, r))\n",
    "            kernel[r//2,:] = np.ones(r)/r\n",
    "            kernel = rotateImage(kernel, theta)\n",
    "            blurr = cv2.filter2D(img, -1, kernel)\n",
    "            plt.imshow(blurr)"
   ]
  },
  {
   "cell_type": "code",
   "execution_count": null,
   "metadata": {},
   "outputs": [],
   "source": []
  },
  {
   "cell_type": "code",
   "execution_count": null,
   "metadata": {},
   "outputs": [],
   "source": [
    "def patches(img):\n",
    "    rows = img.shape[0]\n",
    "    cols = img.shape[1]\n",
    "    patch_size = 30\n",
    "    \n",
    "    for i in range(0, rows, patch_size):\n",
    "        ex = min(i + patch_size, rows)\n",
    "        for j in range(img.shape[1]):\n",
    "            ey = min(j + patch_size, cols)\n",
    "            findKernel(img[i:ex, j:ey])\n",
    "            "
   ]
  },
  {
   "cell_type": "code",
   "execution_count": 5,
   "metadata": {},
   "outputs": [
    {
     "name": "stdout",
     "output_type": "stream",
     "text": [
      "image ./resources/blu.png loaded\n",
      "[[35 35 34 ... 36 37 37]\n",
      " [34 34 34 ... 37 38 38]\n",
      " [34 34 33 ... 40 40 40]\n",
      " ...\n",
      " [49 49 49 ... 53 57 61]\n",
      " [49 49 49 ... 54 58 62]\n",
      " [49 49 49 ... 54 58 63]]\n"
     ]
    }
   ],
   "source": [
    "img = utils.loadImage('./resources/blu.png', 'gray')\n",
    "print(img)"
   ]
  }
 ],
 "metadata": {
  "kernelspec": {
   "display_name": "Python 3",
   "language": "python",
   "name": "python3"
  },
  "language_info": {
   "codemirror_mode": {
    "name": "ipython",
    "version": 3
   },
   "file_extension": ".py",
   "mimetype": "text/x-python",
   "name": "python",
   "nbconvert_exporter": "python",
   "pygments_lexer": "ipython3",
   "version": "3.7.3"
  }
 },
 "nbformat": 4,
 "nbformat_minor": 2
}
