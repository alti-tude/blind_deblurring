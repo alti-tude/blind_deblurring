{
 "cells": [
  {
   "cell_type": "code",
   "execution_count": 1,
   "metadata": {},
   "outputs": [],
   "source": [
    "import cv2\n",
    "import numpy as np\n",
    "import matplotlib.pyplot as plt"
   ]
  },
  {
   "cell_type": "code",
   "execution_count": 2,
   "metadata": {},
   "outputs": [],
   "source": [
    "def loadImage(file_path, read_param):\n",
    "    param_dict = {'gray': cv2.IMREAD_GRAYSCALE, 'color': cv2.IMREAD_COLOR}#, 'with_alpha': cv2.IMREAD_UNCHANGED}\n",
    "    ret = cv2.imread(file_path, param_dict[read_param])\n",
    "    \n",
    "    if ret is None:\n",
    "        print('check file path')\n",
    "        return\n",
    "\n",
    "    if read_param == 'color':\n",
    "        ret = cv2.cvtColor(ret, cv2.COLOR_BGR2RGB) \n",
    "        \n",
    "    print('image', file_path, 'loaded')\n",
    "    return ret"
   ]
  },
  {
   "cell_type": "code",
   "execution_count": 3,
   "metadata": {},
   "outputs": [],
   "source": [
    "def plotImages(imgs, titles=[], gray=False, normalise=True, fig_size=(10,10), num_cols = 2):\n",
    "    if isinstance(gray, bool):\n",
    "        gray = [gray for i in imgs]\n",
    "    \n",
    "    if isinstance(normalise, bool):\n",
    "        normalise = [normalise for i in imgs]\n",
    "        \n",
    "    if not isinstance(imgs, list):\n",
    "        imgs = [imgs]\n",
    "    \n",
    "    if not isinstance(titles, list):\n",
    "        titles = [titles]\n",
    "        \n",
    "    num_rows = int(np.ceil(len(imgs)/num_cols))\n",
    "    \n",
    "    fig = plt.figure(fig_size)\n",
    "    \n",
    "    for i in len(imgs):\n",
    "        ax = fig.add_subplot(num_rows, num_cols, i+1)\n",
    "        \n",
    "        img = imgs[i]\n",
    "        vmin = 0\n",
    "        vmax = 255\n",
    "        if gray[i] and len(img.shape)==3: \n",
    "            img = cv2.cvtColor(img, cv2.COLOR_RGB2GRAY)\n",
    "        \n",
    "        if normalised[i]:\n",
    "            vmin = img.min()\n",
    "            vmax = img.max()\n",
    "        \n",
    "        if gray[i]:\n",
    "            ax.imshow(img, cmap='gray', vmin=vmin, vmax = vmax)\n",
    "        else:\n",
    "            ax.imshow(img, vmin=vmin, vmax=vmax)\n",
    "        \n",
    "        "
   ]
  },
  {
   "cell_type": "code",
   "execution_count": null,
   "metadata": {},
   "outputs": [],
   "source": []
  }
 ],
 "metadata": {
  "kernelspec": {
   "display_name": "Python 3",
   "language": "python",
   "name": "python3"
  },
  "language_info": {
   "codemirror_mode": {
    "name": "ipython",
    "version": 3
   },
   "file_extension": ".py",
   "mimetype": "text/x-python",
   "name": "python",
   "nbconvert_exporter": "python",
   "pygments_lexer": "ipython3",
   "version": "3.7.3"
  }
 },
 "nbformat": 4,
 "nbformat_minor": 4
}
