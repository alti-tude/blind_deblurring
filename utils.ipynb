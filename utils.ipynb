{
 "cells": [
  {
   "cell_type": "code",
   "execution_count": 1,
   "metadata": {},
   "outputs": [],
   "source": [
    "import cv2\n",
    "import numpy as np\n",
    "import matplotlib.pyplot as plt\n",
    "from tqdm import tqdm_notebook as tqdm"
   ]
  },
  {
   "cell_type": "code",
   "execution_count": 2,
   "metadata": {},
   "outputs": [],
   "source": [
    "def loadImage(file_path, read_param):\n",
    "    \"\"\"\n",
    "    @param file_path: image file path\n",
    "    @param read_param: mode of loading the image (gray, colored etc.)\n",
    "    \n",
    "    @return ret: loaded image\n",
    "    \"\"\"\n",
    "    \n",
    "    param_dict = {'gray': cv2.IMREAD_GRAYSCALE, 'color': cv2.IMREAD_COLOR}#, 'with_alpha': cv2.IMREAD_UNCHANGED}\n",
    "    ret = cv2.imread(file_path, param_dict[read_param])\n",
    "\n",
    "    if ret is None:\n",
    "        print('check file path')\n",
    "        return\n",
    "\n",
    "    if read_param == 'color':\n",
    "        ret = cv2.cvtColor(ret, cv2.COLOR_BGR2RGB) \n",
    "\n",
    "    print('image', file_path, 'loaded')\n",
    "    return ret"
   ]
  },
  {
   "cell_type": "code",
   "execution_count": 4,
   "metadata": {},
   "outputs": [],
   "source": [
    "def blurLegend(directions, magnitude):\n",
    "    \"\"\"\n",
    "    @param directions: matrix containing blur directions\n",
    "    @param magnitude: matrix containg blur magnitude\n",
    "    \n",
    "    function for visualising blur matrix (blur in the image)\n",
    "    \"\"\"\n",
    "    norm = mpl.colors.Normalize(0, np.pi)\n",
    "    plt.imshow(norm(directions))\n",
    "    plt.show()"
   ]
  },
  {
   "cell_type": "code",
   "execution_count": 5,
   "metadata": {},
   "outputs": [],
   "source": [
    "def rotateMatrix(matrix, angle):\n",
    "    \"\"\"\n",
    "    @param matrix: input matrix\n",
    "    @param angle: rotation angle\n",
    "    \n",
    "    @return rotmat: input matrix rotated by angle theta(param)\n",
    "    \"\"\"\n",
    "    from skimage.transform import rotate\n",
    "    return rotate(matrix, angle)"
   ]
  },
  {
   "cell_type": "code",
   "execution_count": 6,
   "metadata": {},
   "outputs": [],
   "source": [
    "def MSELoss(img1, img2):\n",
    "    \"\"\"\n",
    "    @param img1: image 1\n",
    "    @param img2: image 2\n",
    "    \n",
    "    @return loss: mse loss between image1 and image 2\n",
    "    \"\"\"\n",
    "    \n",
    "    return np.sum(np.power(img1 - img2, 2))"
   ]
  },
  {
   "cell_type": "code",
   "execution_count": 1,
   "metadata": {},
   "outputs": [],
   "source": [
    "def blurKernel(r, theta):\n",
    "    \"\"\"\n",
    "    @param r: blur kernel diameter\n",
    "    @param theta: blur direction\n",
    "    \n",
    "    @return kernel: blur kernel b(r, theta)\n",
    "    \"\"\"\n",
    "    \n",
    "    kernel = np.zeros((r,r))\n",
    "    kernel[r//2,:] = 1\n",
    "    kernel = rotateMatrix(kernel, theta)\n",
    "    return kernel/np.sum(kernel)"
   ]
  },
  {
   "cell_type": "code",
   "execution_count": 11,
   "metadata": {},
   "outputs": [],
   "source": [
    "def linearBlur(img, r, theta):\n",
    "    \"\"\"\n",
    "    @param img: input image\n",
    "    @param r: blur kernel radius\n",
    "    @param theta: blur direction\n",
    "    \n",
    "    @return image convolved with blur kernel b(r, theta)\n",
    "    \"\"\"\n",
    "    kernel = blurKernel(r, theta)\n",
    "    return cv2.filter2D(np.uint8(img), -1, kernel)"
   ]
  },
  {
   "cell_type": "code",
   "execution_count": 12,
   "metadata": {},
   "outputs": [],
   "source": [
    "def nonUniformBlurKernels(img):\n",
    "    \"\"\"\n",
    "    @param input: img (nxm)\n",
    "    \n",
    "    @return K: list of filters for each pixel\n",
    "    \"\"\"\n",
    "    \n",
    "    K = []\n",
    "    for i in tqdm(range(img.shape[0])):\n",
    "        for j in range(img.shape[1]):\n",
    "            r = 1+min(2*(img.shape[0]-1-i)+1, 2*(img.shape[1]-1-j)+1, 20, 2*i+1, 2*j+1)\n",
    "            if r%2==0:\n",
    "                r-=1\n",
    "                \n",
    "            theta = 45 #np.random.randint(0,180)\n",
    "            kernel = blurKernel(r,theta)\n",
    "\n",
    "            K.append(kernel)\n",
    "            \n",
    "    return np.array(K)\n",
    "            \n",
    "def applyNonUniformBlur(img, K):\n",
    "    \"\"\"\n",
    "    @param img: (nxm)\n",
    "    @param K: list of kernels (nxm kernels)\n",
    "    \n",
    "    @return blurred_img\n",
    "    \"\"\"\n",
    "    \n",
    "    blurred_img = np.zeros(img.shape)\n",
    "    n,m = img.shape\n",
    "    \n",
    "    for i in range(n):\n",
    "        for j in range(m):\n",
    "            kernel = K[i*m+j]\n",
    "            k = kernel.shape[0]\n",
    "            img_patch = img[i-k//2:i+k//2+1, j-k//2:j+k//2+1]\n",
    "            blurred_img[i,j] = np.sum(img_patch*kernel)\n",
    "            \n",
    "    return blurred_img\n",
    "    \n",
    "def nonUniformBlur(img):\n",
    "    \"\"\"\n",
    "    @param img: (nxm)\n",
    "    \n",
    "    @return blurred_img: (nxm)\n",
    "    @return K: list of blur kernels (n*m)\n",
    "    \"\"\"\n",
    "    \n",
    "    K = nonUniformBlurKernels(img)\n",
    "    blurred_img = applyNonUniformBlur(img, K)\n",
    "    return blurred_img, K"
   ]
  },
  {
   "cell_type": "code",
   "execution_count": 8,
   "metadata": {},
   "outputs": [],
   "source": [
    "def im2col(A, sz):\n",
    "    \"\"\"\n",
    "    @param A: input image\n",
    "    @param sz: size of blocks\n",
    "    \n",
    "    @return out: columised image (same working as im2col of matlab)\n",
    "    \"\"\"\n",
    "    \n",
    "    m, n = A.shape\n",
    "    s1, s2 = A.strides\n",
    "    rows = m-sz[0]+1\n",
    "    cols = n-sz[1]+1\n",
    "    shp = sz[0],sz[1],rows,cols\n",
    "    strd = s1,s2,s1,s2\n",
    "\n",
    "    out = np.lib.stride_tricks.as_strided(A, shape=shp, strides=strd).reshape(sz[0]*sz[1],-1)[:,::1]\n",
    "    return out"
   ]
  },
  {
   "cell_type": "code",
   "execution_count": null,
   "metadata": {},
   "outputs": [],
   "source": []
  }
 ],
 "metadata": {
  "kernelspec": {
   "display_name": "Python 3",
   "language": "python",
   "name": "python3"
  },
  "language_info": {
   "codemirror_mode": {
    "name": "ipython",
    "version": 3
   },
   "file_extension": ".py",
   "mimetype": "text/x-python",
   "name": "python",
   "nbconvert_exporter": "python",
   "pygments_lexer": "ipython3",
   "version": "3.7.3"
  }
 },
 "nbformat": 4,
 "nbformat_minor": 4
}
