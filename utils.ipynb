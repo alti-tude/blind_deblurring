{
 "cells": [
  {
   "cell_type": "code",
   "execution_count": 2,
   "metadata": {},
   "outputs": [],
   "source": [
    "import cv2\n",
    "import numpy as np\n",
    "import matplotlib.pyplot as plt\n",
    "from tqdm import tqdm_notebook as tqdm"
   ]
  },
  {
   "cell_type": "code",
   "execution_count": 3,
   "metadata": {},
   "outputs": [],
   "source": [
    "def loadImage(file_path, read_param):\n",
    "    param_dict = {'gray': cv2.IMREAD_GRAYSCALE, 'color': cv2.IMREAD_COLOR}#, 'with_alpha': cv2.IMREAD_UNCHANGED}\n",
    "    ret = cv2.imread(file_path, param_dict[read_param])\n",
    "    \n",
    "    if ret is None:\n",
    "        print('check file path')\n",
    "        return\n",
    "\n",
    "    if read_param == 'color':\n",
    "        ret = cv2.cvtColor(ret, cv2.COLOR_BGR2RGB) \n",
    "        \n",
    "    print('image', file_path, 'loaded')\n",
    "    return ret"
   ]
  },
  {
   "cell_type": "code",
   "execution_count": 4,
   "metadata": {},
   "outputs": [],
   "source": [
    "def plotImages(imgs, titles=[], gray=False, normalise=True, fig_size=(10,10), num_cols = 2):\n",
    "    if isinstance(gray, bool):\n",
    "        gray = [gray for i in imgs]\n",
    "    \n",
    "    if isinstance(normalise, bool):\n",
    "        normalise = [normalise for i in imgs]\n",
    "        \n",
    "    if not isinstance(imgs, list):\n",
    "        imgs = [imgs]\n",
    "    \n",
    "    if not isinstance(titles, list):\n",
    "        titles = [titles]\n",
    "        \n",
    "    num_rows = int(np.ceil(len(imgs)/num_cols))\n",
    "    \n",
    "    fig = plt.figure(fig_size)\n",
    "    \n",
    "    for i in len(imgs):\n",
    "        ax = fig.add_subplot(num_rows, num_cols, i+1)\n",
    "        \n",
    "        img = imgs[i]\n",
    "        vmin = 0\n",
    "        vmax = 255\n",
    "        if gray[i] and len(img.shape)==3: \n",
    "            img = cv2.cvtColor(img, cv2.COLOR_RGB2GRAY)\n",
    "        \n",
    "        if normalised[i]:\n",
    "            vmin = img.min()\n",
    "            vmax = img.max()\n",
    "        \n",
    "        if gray[i]:\n",
    "            ax.imshow(img, cmap='gray', vmin=vmin, vmax = vmax)\n",
    "        else:\n",
    "            ax.imshow(img, vmin=vmin, vmax=vmax)\n",
    "        \n",
    "        "
   ]
  },
  {
   "cell_type": "code",
   "execution_count": 5,
   "metadata": {},
   "outputs": [],
   "source": [
    "def blurKernel(r, theta):\n",
    "    kernel = np.zeros((r,r))\n",
    "    kernel[r//2,:] = 1/r\n",
    "    return rotateMatrix(kernel, theta)"
   ]
  },
  {
   "cell_type": "code",
   "execution_count": 6,
   "metadata": {},
   "outputs": [],
   "source": [
    "def blurLegend(directions, magnitude):\n",
    "    norm = mpl.colors.Normalize(0, np.pi)\n",
    "    plt.imshow(norm(directions))\n",
    "    plt.show()"
   ]
  },
  {
   "cell_type": "code",
   "execution_count": 7,
   "metadata": {},
   "outputs": [],
   "source": [
    "def rotateMatrix(matrix, angle):\n",
    "    from skimage.transform import rotate\n",
    "    return rotate(matrix, angle)"
   ]
  },
  {
   "cell_type": "code",
   "execution_count": 8,
   "metadata": {},
   "outputs": [],
   "source": [
    "def MSELoss(img1, img2):\n",
    "    return np.sum(np.power(img1 - img2, 2))"
   ]
  },
  {
   "cell_type": "code",
   "execution_count": 9,
   "metadata": {},
   "outputs": [],
   "source": [
    "def linearBlur(img, r, theta):\n",
    "    kernel = blurKernel(r, theta)\n",
    "    return cv2.filter2D(np.uint8(img), -1, kernel)"
   ]
  },
  {
   "cell_type": "code",
   "execution_count": 10,
   "metadata": {},
   "outputs": [],
   "source": [
    "def nonUniformBlurMatrix(img):\n",
    "    K = []\n",
    "    for i in tqdm(range(img.shape[0])):\n",
    "        for j in range(img.shape[1]):\n",
    "            r = np.random.randint(1, 1+min(2*(img.shape[0]-1-i)+1, 2*(img.shape[1]-1-j)+1, 30, 2*i+1, 2*j+1))\n",
    "            \n",
    "            theta = np.random.randint(0,180)\n",
    "            kernel = blurKernel(r,theta)\n",
    "\n",
    "            row = np.zeros(img.shape[0]*img.shape[1])\n",
    "\n",
    "            idxs, _ = np.meshgrid(np.arange(0,r), np.arange(0,r))\n",
    "            idxs = idxs + (np.arange(0,r)*img.shape[1])[:,None] + (i-r//2)*img.shape[1] + j-r//2\n",
    "            idxs = idxs.ravel()\n",
    "\n",
    "            row[idxs] = kernel.ravel()\n",
    "            K.append(row)\n",
    "            \n",
    "    return np.array(K)\n",
    "            \n",
    "            \n",
    "def nonUniformBlur(img):\n",
    "    K = nonUniformBlurMatrix(img)\n",
    "    return (K @ img.ravel()[:,None]).reshape(img.shape), K"
   ]
  },
  {
   "cell_type": "code",
   "execution_count": 19,
   "metadata": {},
   "outputs": [
    {
     "name": "stdout",
     "output_type": "stream",
     "text": [
      "image ./resources/building.jpg loaded\n"
     ]
    },
    {
     "name": "stderr",
     "output_type": "stream",
     "text": [
      "/envs/bluring/lib/python3.7/site-packages/ipykernel_launcher.py:3: TqdmDeprecationWarning: This function will be removed in tqdm==5.0.0\n",
      "Please use `tqdm.notebook.tqdm` instead of `tqdm.tqdm_notebook`\n",
      "  This is separate from the ipykernel package so we can avoid doing imports until\n"
     ]
    },
    {
     "data": {
      "application/vnd.jupyter.widget-view+json": {
       "model_id": "f5483578e5ef483f9d18ef56cc692782",
       "version_major": 2,
       "version_minor": 0
      },
      "text/plain": [
       "HBox(children=(IntProgress(value=0, max=130), HTML(value='')))"
      ]
     },
     "metadata": {},
     "output_type": "display_data"
    },
    {
     "name": "stdout",
     "output_type": "stream",
     "text": [
      "\n"
     ]
    },
    {
     "ename": "MemoryError",
     "evalue": "Unable to allocate array with shape (16900, 16900) and data type float64",
     "output_type": "error",
     "traceback": [
      "\u001b[0;31m---------------------------------------------------------------------------\u001b[0m",
      "\u001b[0;31mMemoryError\u001b[0m                               Traceback (most recent call last)",
      "\u001b[0;32m<ipython-input-19-fdab35adde4a>\u001b[0m in \u001b[0;36m<module>\u001b[0;34m\u001b[0m\n\u001b[1;32m      2\u001b[0m \u001b[0mnp\u001b[0m\u001b[0;34m.\u001b[0m\u001b[0mset_printoptions\u001b[0m\u001b[0;34m(\u001b[0m\u001b[0mthreshold\u001b[0m\u001b[0;34m=\u001b[0m\u001b[0;36m10000000000\u001b[0m\u001b[0;34m)\u001b[0m\u001b[0;34m\u001b[0m\u001b[0;34m\u001b[0m\u001b[0m\n\u001b[1;32m      3\u001b[0m \u001b[0;34m\u001b[0m\u001b[0m\n\u001b[0;32m----> 4\u001b[0;31m \u001b[0mblurred_img\u001b[0m\u001b[0;34m,\u001b[0m \u001b[0mK\u001b[0m \u001b[0;34m=\u001b[0m \u001b[0mnonUniformBlur\u001b[0m\u001b[0;34m(\u001b[0m\u001b[0mimg\u001b[0m\u001b[0;34m)\u001b[0m\u001b[0;34m\u001b[0m\u001b[0;34m\u001b[0m\u001b[0m\n\u001b[0m\u001b[1;32m      5\u001b[0m \u001b[0mplt\u001b[0m\u001b[0;34m.\u001b[0m\u001b[0mimshow\u001b[0m\u001b[0;34m(\u001b[0m\u001b[0mblurred_img\u001b[0m\u001b[0;34m,\u001b[0m \u001b[0mcmap\u001b[0m\u001b[0;34m=\u001b[0m\u001b[0;34m'gray'\u001b[0m\u001b[0;34m)\u001b[0m\u001b[0;34m\u001b[0m\u001b[0;34m\u001b[0m\u001b[0m\n\u001b[1;32m      6\u001b[0m \u001b[0mplt\u001b[0m\u001b[0;34m.\u001b[0m\u001b[0mfigure\u001b[0m\u001b[0;34m(\u001b[0m\u001b[0;34m)\u001b[0m\u001b[0;34m\u001b[0m\u001b[0;34m\u001b[0m\u001b[0m\n",
      "\u001b[0;32m<ipython-input-10-0be95a7dfedb>\u001b[0m in \u001b[0;36mnonUniformBlur\u001b[0;34m(img)\u001b[0m\n\u001b[1;32m     21\u001b[0m \u001b[0;34m\u001b[0m\u001b[0m\n\u001b[1;32m     22\u001b[0m \u001b[0;32mdef\u001b[0m \u001b[0mnonUniformBlur\u001b[0m\u001b[0;34m(\u001b[0m\u001b[0mimg\u001b[0m\u001b[0;34m)\u001b[0m\u001b[0;34m:\u001b[0m\u001b[0;34m\u001b[0m\u001b[0;34m\u001b[0m\u001b[0m\n\u001b[0;32m---> 23\u001b[0;31m     \u001b[0mK\u001b[0m \u001b[0;34m=\u001b[0m \u001b[0mnonUniformBlurMatrix\u001b[0m\u001b[0;34m(\u001b[0m\u001b[0mimg\u001b[0m\u001b[0;34m)\u001b[0m\u001b[0;34m\u001b[0m\u001b[0;34m\u001b[0m\u001b[0m\n\u001b[0m\u001b[1;32m     24\u001b[0m     \u001b[0;32mreturn\u001b[0m \u001b[0;34m(\u001b[0m\u001b[0mK\u001b[0m \u001b[0;34m@\u001b[0m \u001b[0mimg\u001b[0m\u001b[0;34m.\u001b[0m\u001b[0mravel\u001b[0m\u001b[0;34m(\u001b[0m\u001b[0;34m)\u001b[0m\u001b[0;34m[\u001b[0m\u001b[0;34m:\u001b[0m\u001b[0;34m,\u001b[0m\u001b[0;32mNone\u001b[0m\u001b[0;34m]\u001b[0m\u001b[0;34m)\u001b[0m\u001b[0;34m.\u001b[0m\u001b[0mreshape\u001b[0m\u001b[0;34m(\u001b[0m\u001b[0mimg\u001b[0m\u001b[0;34m.\u001b[0m\u001b[0mshape\u001b[0m\u001b[0;34m)\u001b[0m\u001b[0;34m,\u001b[0m \u001b[0mK\u001b[0m\u001b[0;34m\u001b[0m\u001b[0;34m\u001b[0m\u001b[0m\n",
      "\u001b[0;32m<ipython-input-10-0be95a7dfedb>\u001b[0m in \u001b[0;36mnonUniformBlurMatrix\u001b[0;34m(img)\u001b[0m\n\u001b[1;32m     17\u001b[0m             \u001b[0mK\u001b[0m\u001b[0;34m.\u001b[0m\u001b[0mappend\u001b[0m\u001b[0;34m(\u001b[0m\u001b[0mrow\u001b[0m\u001b[0;34m)\u001b[0m\u001b[0;34m\u001b[0m\u001b[0;34m\u001b[0m\u001b[0m\n\u001b[1;32m     18\u001b[0m \u001b[0;34m\u001b[0m\u001b[0m\n\u001b[0;32m---> 19\u001b[0;31m     \u001b[0;32mreturn\u001b[0m \u001b[0mnp\u001b[0m\u001b[0;34m.\u001b[0m\u001b[0marray\u001b[0m\u001b[0;34m(\u001b[0m\u001b[0mK\u001b[0m\u001b[0;34m)\u001b[0m\u001b[0;34m\u001b[0m\u001b[0;34m\u001b[0m\u001b[0m\n\u001b[0m\u001b[1;32m     20\u001b[0m \u001b[0;34m\u001b[0m\u001b[0m\n\u001b[1;32m     21\u001b[0m \u001b[0;34m\u001b[0m\u001b[0m\n",
      "\u001b[0;31mMemoryError\u001b[0m: Unable to allocate array with shape (16900, 16900) and data type float64"
     ]
    }
   ],
   "source": [
    "img = loadImage('./resources/building.jpg', 'gray')[120:250, 120:250]\n",
    "np.set_printoptions(threshold=10000000000)\n",
    "\n",
    "blurred_img, K = nonUniformBlur(img)\n",
    "plt.imshow(blurred_img, cmap='gray')\n",
    "plt.figure()\n",
    "plt.imshow(np.log2(K))\n",
    "plt.figure()\n",
    "plt.imshow(img)\n",
    "plt.show()"
   ]
  },
  {
   "cell_type": "code",
   "execution_count": null,
   "metadata": {},
   "outputs": [],
   "source": []
  },
  {
   "cell_type": "code",
   "execution_count": null,
   "metadata": {},
   "outputs": [],
   "source": []
  }
 ],
 "metadata": {
  "kernelspec": {
   "display_name": "bluring",
   "language": "python",
   "name": "bluring"
  },
  "language_info": {
   "codemirror_mode": {
    "name": "ipython",
    "version": 3
   },
   "file_extension": ".py",
   "mimetype": "text/x-python",
   "name": "python",
   "nbconvert_exporter": "python",
   "pygments_lexer": "ipython3",
   "version": "3.7.3"
  }
 },
 "nbformat": 4,
 "nbformat_minor": 4
}
