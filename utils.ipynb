{
 "cells": [
  {
   "cell_type": "code",
   "execution_count": null,
   "metadata": {},
   "outputs": [],
   "source": [
    "import cv2\n",
    "import numpy as np\n",
    "import matplotlib.pyplot as plt\n",
    "from tqdm import tqdm_notebook as tqdm"
   ]
  },
  {
   "cell_type": "code",
   "execution_count": null,
   "metadata": {},
   "outputs": [],
   "source": [
    "def loadImage(file_path, read_param):\n",
    "    param_dict = {'gray': cv2.IMREAD_GRAYSCALE, 'color': cv2.IMREAD_COLOR}#, 'with_alpha': cv2.IMREAD_UNCHANGED}\n",
    "    ret = cv2.imread(file_path, param_dict[read_param])\n",
    "    \n",
    "    if ret is None:\n",
    "        print('check file path')\n",
    "        return\n",
    "\n",
    "    if read_param == 'color':\n",
    "        ret = cv2.cvtColor(ret, cv2.COLOR_BGR2RGB) \n",
    "        \n",
    "    print('image', file_path, 'loaded')\n",
    "    return ret"
   ]
  },
  {
   "cell_type": "code",
   "execution_count": null,
   "metadata": {},
   "outputs": [],
   "source": [
    "def plotImages(imgs, titles=[], gray=False, normalise=True, fig_size=(10,10), num_cols = 2):\n",
    "    if isinstance(gray, bool):\n",
    "        gray = [gray for i in imgs]\n",
    "    \n",
    "    if isinstance(normalise, bool):\n",
    "        normalise = [normalise for i in imgs]\n",
    "        \n",
    "    if not isinstance(imgs, list):\n",
    "        imgs = [imgs]\n",
    "    \n",
    "    if not isinstance(titles, list):\n",
    "        titles = [titles]\n",
    "        \n",
    "    num_rows = int(np.ceil(len(imgs)/num_cols))\n",
    "    \n",
    "    fig = plt.figure(fig_size)\n",
    "    \n",
    "    for i in len(imgs):\n",
    "        ax = fig.add_subplot(num_rows, num_cols, i+1)\n",
    "        \n",
    "        img = imgs[i]\n",
    "        vmin = 0\n",
    "        vmax = 255\n",
    "        if gray[i] and len(img.shape)==3: \n",
    "            img = cv2.cvtColor(img, cv2.COLOR_RGB2GRAY)\n",
    "        \n",
    "        if normalised[i]:\n",
    "            vmin = img.min()\n",
    "            vmax = img.max()\n",
    "        \n",
    "        if gray[i]:\n",
    "            ax.imshow(img, cmap='gray', vmin=vmin, vmax = vmax)\n",
    "        else:\n",
    "            ax.imshow(img, vmin=vmin, vmax=vmax)\n",
    "        \n",
    "        "
   ]
  },
  {
   "cell_type": "code",
   "execution_count": null,
   "metadata": {},
   "outputs": [],
   "source": [
    "def blurKernel(r, theta):\n",
    "    kernel = np.zeros((r,r))\n",
    "    kernel[r//2,:] = 1/r\n",
    "    return rotateMatrix(kernel, theta)"
   ]
  },
  {
   "cell_type": "code",
   "execution_count": null,
   "metadata": {},
   "outputs": [],
   "source": [
    "def blurLegend(directions, magnitude):\n",
    "    norm = mpl.colors.Normalize(0, np.pi)\n",
    "    plt.imshow(norm(directions))\n",
    "    plt.show()"
   ]
  },
  {
   "cell_type": "code",
   "execution_count": null,
   "metadata": {},
   "outputs": [],
   "source": [
    "def rotateMatrix(matrix, angle):\n",
    "    from skimage.transform import rotate\n",
    "    return rotate(matrix, angle)"
   ]
  },
  {
   "cell_type": "code",
   "execution_count": null,
   "metadata": {},
   "outputs": [],
   "source": [
    "def MSELoss(img1, img2):\n",
    "    return np.sum(np.power(img1 - img2, 2))"
   ]
  },
  {
   "cell_type": "code",
   "execution_count": null,
   "metadata": {},
   "outputs": [],
   "source": [
    "def linearBlur(img, r, theta):\n",
    "    kernel = blurKernel(r, theta)\n",
    "    return cv2.filter2D(np.uint8(img), -1, kernel)"
   ]
  },
  {
   "cell_type": "code",
   "execution_count": null,
   "metadata": {},
   "outputs": [],
   "source": [
    "def nonUniformBlurMatrix(img):\n",
    "    K = []\n",
    "    for i in tqdm(range(img.shape[0])):\n",
    "        for j in range(img.shape[1]):\n",
    "            r = np.random.randint(1, 1+min(2*(img.shape[0]-1-i)+1, 2*(img.shape[1]-1-j)+1, 30, 2*i+1, 2*j+1))\n",
    "            \n",
    "            theta = np.random.randint(0,180)\n",
    "            kernel = blurKernel(r,theta)\n",
    "\n",
    "            row = np.zeros(img.shape[0]*img.shape[1])\n",
    "\n",
    "            idxs, _ = np.meshgrid(np.arange(0,r), np.arange(0,r))\n",
    "            idxs = idxs + (np.arange(0,r)*img.shape[1])[:,None] + (i-r//2)*img.shape[1] + j-r//2\n",
    "            idxs = idxs.ravel()\n",
    "\n",
    "            row[idxs] = kernel.ravel()\n",
    "            K.append(row)\n",
    "            \n",
    "    return np.array(K)\n",
    "            \n",
    "            \n",
    "def nonUniformBlur(img):\n",
    "    K = nonUniformBlurMatrix(img)\n",
    "    return (K @ img.ravel()[:,None]).reshape(img.shape), K"
   ]
  },
  {
   "cell_type": "code",
   "execution_count": null,
   "metadata": {},
   "outputs": [],
   "source": [
    "img = loadImage('./resources/building.jpg', 'gray')\n",
    "np.set_printoptions(threshold=10000000000)\n",
    "\n",
    "blurred_img, K = nonUniformBlur(img)\n",
    "plt.imshow(blurred_img)\n",
    "plt.figure()\n",
    "plt.imshow(img)\n",
    "plt.show()"
   ]
  },
  {
   "cell_type": "code",
   "execution_count": null,
   "metadata": {},
   "outputs": [],
   "source": []
  }
 ],
 "metadata": {
  "kernelspec": {
   "display_name": "bluring",
   "language": "python",
   "name": "bluring"
  },
  "language_info": {
   "codemirror_mode": {
    "name": "ipython",
    "version": 3
   },
   "file_extension": ".py",
   "mimetype": "text/x-python",
   "name": "python",
   "nbconvert_exporter": "python",
   "pygments_lexer": "ipython3",
   "version": "3.7.3"
  }
 },
 "nbformat": 4,
 "nbformat_minor": 4
}
