{
 "cells": [
  {
   "cell_type": "code",
   "execution_count": 1,
   "metadata": {},
   "outputs": [],
   "source": [
    "import cv2\n",
    "import numpy as np\n",
    "from importnb import Notebook\n",
    "import matplotlib.pyplot as plt\n",
    "import numpy.fft as fft\n",
    "import numpy.matlib"
   ]
  },
  {
   "cell_type": "code",
   "execution_count": 2,
   "metadata": {},
   "outputs": [],
   "source": [
    "def powerlaw_psd(exponent, size):\n",
    "    r_samples = (fft.fftfreq(size[0])).T\n",
    "    c_samples = fft.fftfreq(size[1])\n",
    "    u = numpy.matlib.repmat(r_samples, size[1], 1).T\n",
    "    v = numpy.matlib.repmat(c_samples, size[0], 1)\n",
    "    u[0,0] = v[0,0] = 1\n",
    "    S_f = np.power(np.power(u,2)+np.power(v,2),0.5)**(exponent)\n",
    "    S_f[np.abs(S_f)==float('inf')] = 0;\n",
    "    \n",
    "    phi = np.random.uniform(size=size)\n",
    "    x = fft.ifft2(np.multiply(S_f*0.5, (np.cos(2*np.pi*phi)+1j*np.sin(2*np.pi*phi))))\n",
    "    x = np.real(x)\n",
    "    return x"
   ]
  },
  {
   "cell_type": "code",
   "execution_count": 3,
   "metadata": {},
   "outputs": [],
   "source": [
    "def addNoise(img, exponent=-1):\n",
    "    noise = powerlaw_psd(exponent, img.shape)\n",
    "    out = np.array(img, dtype='float32') + 5000*np.array(noise, dtype='float32')\n",
    "    return out"
   ]
  },
  {
   "cell_type": "code",
   "execution_count": 4,
   "metadata": {},
   "outputs": [],
   "source": [
    "# _, plots = plt.subplots(2,2,figsize=(20,20))\n",
    "# plots[0][0].imshow(img, cmap = 'gray', vmin = 0, vmax = 255)\n",
    "# plots[0][1].imshow(out, cmap = 'gray', vmin = 0, vmax = 255)\n",
    "# plots[1][0].imshow(np.log(1+np.abs(np.fft.fftshift(np.fft.fft2(img)))), cmap = 'gray')\n",
    "# plots[1][1].imshow(np.log(1+np.abs(np.fft.fftshift(np.fft.fft2(out)))), cmap = 'gray')\n",
    "\n",
    "# plt.show()"
   ]
  },
  {
   "cell_type": "code",
   "execution_count": null,
   "metadata": {},
   "outputs": [],
   "source": []
  }
 ],
 "metadata": {
  "kernelspec": {
   "display_name": "Python 3",
   "language": "python",
   "name": "python3"
  },
  "language_info": {
   "codemirror_mode": {
    "name": "ipython",
    "version": 3
   },
   "file_extension": ".py",
   "mimetype": "text/x-python",
   "name": "python",
   "nbconvert_exporter": "python",
   "pygments_lexer": "ipython3",
   "version": "3.7.3"
  }
 },
 "nbformat": 4,
 "nbformat_minor": 2
}
