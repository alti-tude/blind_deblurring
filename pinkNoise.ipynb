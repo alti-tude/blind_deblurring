{
 "cells": [
  {
   "cell_type": "code",
   "execution_count": 1,
   "metadata": {},
   "outputs": [],
   "source": [
    "import cv2\n",
    "import numpy as np\n",
    "from importnb import Notebook\n",
    "import matplotlib.pyplot as plt\n",
    "import numpy.fft as fft\n",
    "import numpy.matlib"
   ]
  },
  {
   "cell_type": "code",
   "execution_count": 2,
   "metadata": {},
   "outputs": [],
   "source": [
    "def powerlaw_psd(exponent, size):\n",
    "    r_samples = (fft.fftfreq(size[0])).T\n",
    "    c_samples = fft.fftfreq(size[1])\n",
    "    u = numpy.matlib.repmat(r_samples, size[1], 1).T\n",
    "    v = numpy.matlib.repmat(c_samples, size[0], 1)\n",
    "    S_f = np.power(np.power(u,2)+np.power(v,2),0.5)**(exponent)\n",
    "    S_f[np.abs(S_f)==float('inf')] = 0;\n",
    "    phi = np.random.rand(size[0], size[1])\n",
    "#     phi = np.random.uniform(size=size)\n",
    "    x = fft.ifft2(np.multiply(S_f*0.5, (np.cos(2*np.pi*phi)+1j*np.sin(2*np.pi*phi))))\n",
    "    x = np.real(x)\n",
    "    return x"
   ]
  },
  {
   "cell_type": "code",
   "execution_count": 3,
   "metadata": {},
   "outputs": [],
   "source": [
    "def addNoise(img, exponent=-1):\n",
    "    noise = powerlaw_psd(exponent, img.shape)\n",
    "#     noise = np.uint8(np.where(noise < 0, 0, noise)*10000)\n",
    "    out = np.array(img, dtype='float32')\n",
    "    out = out + noise*1000\n",
    "    out = np.uint8(np.clip(out, 0, 255))\n",
    "#     return np.uint8((out-np.min(out))*255/(np.max(out) - np.min(out)))\n",
    "    return out"
   ]
  },
  {
   "cell_type": "code",
   "execution_count": 4,
   "metadata": {},
   "outputs": [
    {
     "name": "stderr",
     "output_type": "stream",
     "text": [
      "/home/sawar/anaconda3/envs/cvwork/lib/python3.6/site-packages/ipykernel_launcher.py:6: RuntimeWarning: divide by zero encountered in reciprocal\n",
      "  \n"
     ]
    }
   ],
   "source": [
    "x = powerlaw_psd(-1, (5,5))\n",
    "ab = np.ones((5,5))*1000\n",
    "ab = ab + np.uint8(np.array(10000*x, dtype='float32'))\n",
    "# print(np.uint8((ab-np.min(ab))*255/(np.max(ab) - np.min(ab))))"
   ]
  },
  {
   "cell_type": "code",
   "execution_count": null,
   "metadata": {},
   "outputs": [],
   "source": []
  }
 ],
 "metadata": {
  "kernelspec": {
   "display_name": "Python 3",
   "language": "python",
   "name": "python3"
  },
  "language_info": {
   "codemirror_mode": {
    "name": "ipython",
    "version": 3
   },
   "file_extension": ".py",
   "mimetype": "text/x-python",
   "name": "python",
   "nbconvert_exporter": "python",
   "pygments_lexer": "ipython3",
   "version": "3.6.8"
  }
 },
 "nbformat": 4,
 "nbformat_minor": 2
}
