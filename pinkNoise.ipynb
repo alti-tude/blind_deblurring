{
 "cells": [
  {
   "cell_type": "code",
   "execution_count": 30,
   "metadata": {},
   "outputs": [],
   "source": [
    "import cv2\n",
    "import numpy as np\n",
    "from importnb import Notebook\n",
    "import matplotlib.pyplot as plt\n",
    "import numpy.fft as fft\n",
    "import numpy.matlib"
   ]
  },
  {
   "cell_type": "code",
   "execution_count": 31,
   "metadata": {},
   "outputs": [],
   "source": [
    "def powerlaw_psd(exponent, size):\n",
    "    if exponent>0: \n",
    "        print(\"Tu chutiya hei\")\n",
    "        return\n",
    "    \n",
    "    r_samples = (fft.fftfreq(size[0])).T\n",
    "    c_samples = fft.fftfreq(size[1])\n",
    "    u = numpy.matlib.repmat(r_samples, size[1], 1).T\n",
    "    v = numpy.matlib.repmat(c_samples, size[0], 1)\n",
    "    \n",
    "    a = np.power(np.power(u,2)+np.power(v,2),0.5)\n",
    "    a[(a==0)] = float('inf')\n",
    "    S_f = a **(exponent)\n",
    "    \n",
    "    phi = np.random.rand(size[0], size[1])\n",
    "    x = fft.ifft2(np.multiply(S_f*0.5, (np.cos(2*np.pi*phi)+1j*np.sin(2*np.pi*phi))))\n",
    "    x = np.real(x)\n",
    "    return x"
   ]
  },
  {
   "cell_type": "code",
   "execution_count": 36,
   "metadata": {},
   "outputs": [],
   "source": [
    "def addNoise(img, exponent=-1):\n",
    "    noise = powerlaw_psd(exponent, img.shape)\n",
    "    noise = np.where(noise < 0, 0, noise)*1000\n",
    "    \n",
    "    print(noise.max())\n",
    "    out = np.array(img, dtype='float32')\n",
    "    out = out + noise\n",
    "    \n",
    "# jab display karna ho \n",
    "\n",
    "#     out2 = np.uint8((out-np.min(out))*255/(np.max(out) - np.min(out)))\n",
    "#     out = np.uint8(np.clip(out, 0, 255))\n",
    "    \n",
    "    return noise, out"
   ]
  },
  {
   "cell_type": "code",
   "execution_count": 33,
   "metadata": {},
   "outputs": [],
   "source": [
    "x = powerlaw_psd(-1, (5,5))\n",
    "ab = np.ones((5,5))*1000\n",
    "ab = ab + np.uint8(np.array(10000*x, dtype='float32'))\n",
    "# print(np.uint8((ab-np.min(ab))*255/(np.max(ab) - np.min(ab))))"
   ]
  },
  {
   "cell_type": "code",
   "execution_count": null,
   "metadata": {},
   "outputs": [],
   "source": []
  }
 ],
 "metadata": {
  "kernelspec": {
   "display_name": "Python 3",
   "language": "python",
   "name": "python3"
  },
  "language_info": {
   "codemirror_mode": {
    "name": "ipython",
    "version": 3
   },
   "file_extension": ".py",
   "mimetype": "text/x-python",
   "name": "python",
   "nbconvert_exporter": "python",
   "pygments_lexer": "ipython3",
   "version": "3.7.3"
  }
 },
 "nbformat": 4,
 "nbformat_minor": 4
}
