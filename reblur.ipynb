{
 "cells": [
  {
   "cell_type": "code",
   "execution_count": 1,
   "metadata": {},
   "outputs": [],
   "source": [
    "import cv2\n",
    "import numpy as np\n",
    "from importnb import Notebook\n",
    "import matplotlib.pyplot as plt\n",
    "import matplotlib as mpl\n",
    "import numpy.fft as fft\n",
    "import numpy.matlib\n",
    "from skimage.transform import rotate\n",
    "import sys\n",
    "from tqdm import tqdm_notebook as tqdm"
   ]
  },
  {
   "cell_type": "code",
   "execution_count": 2,
   "metadata": {},
   "outputs": [],
   "source": [
    "with Notebook(): \n",
    "        import utils\n",
    "        import pinkNoise"
   ]
  },
  {
   "cell_type": "code",
   "execution_count": 3,
   "metadata": {},
   "outputs": [],
   "source": [
    "def generateKernels(r_max, inc_angle, patch_size, r_min=5):\n",
    "    \"\"\"\n",
    "    @param r_max: maximum kernel size\n",
    "    @param inc_angle: incremental angle\n",
    "    @param patch_size: patch size of kernels\n",
    "    @param r_min: minimum kernel size\n",
    "    \n",
    "    @return out: matrix containg kernels of size r_min to r_max with angles incremented with inc_angle\n",
    "    \n",
    "    \"\"\"\n",
    "    if r_min % 2==0:\n",
    "        r_min += 1\n",
    "        \n",
    "    out = []\n",
    "    for mag in range(r_max, r_max+1, 2):\n",
    "        for ang in range(0, 180, inc_angle):\n",
    "            kernel = utils.blurKernel(mag, ang)\n",
    "            pd = (patch_size- kernel.shape[0])//2\n",
    "            kernel = np.pad(kernel, ((pd, patch_size- kernel.shape[0]-pd), (pd, patch_size- kernel.shape[0]-pd)), 'constant', constant_values=(0, 0))\n",
    "            out.append(kernel.ravel())\n",
    "    \n",
    "    print(np.array(out).shape)\n",
    "    return np.array(out).T ##shape  patch_size x mag*ang"
   ]
  },
  {
   "cell_type": "code",
   "execution_count": 4,
   "metadata": {},
   "outputs": [],
   "source": [
    "def getImageBlurEstimates(img, oimg, kernels, patch_size):\n",
    "    \"\"\"\n",
    "    @param img: input image\n",
    "    @param oimg:\n",
    "    @param kernels: kernels amongst which blur kernel needs to be chosen based on mse loss\n",
    "    @param patch_size: patch size to consider in estimation\n",
    "    \n",
    "    @return kidxs: blur estimates for the image\n",
    "    \"\"\"\n",
    "    \n",
    "    pd = patch_size//2\n",
    "    _,nimg = pinkNoise.addNoise(img, -1)\n",
    "    nimg = np.pad(nimg, ((pd,pd), (pd,pd)), 'reflect')\n",
    "    oimg = np.pad(img, ((pd,pd), (pd,pd)), 'reflect')\n",
    "    \n",
    " \n",
    "    cimg = utils.im2col(oimg, [patch_size, patch_size])\n",
    "    cnimg = utils.im2col(nimg, [patch_size, patch_size])\n",
    "    kidxs = []\n",
    "    for k in tqdm(range(kernels.shape[1])):\n",
    "        fi = np.sum(kernels[:,k][:,None] * cnimg, axis=0).reshape(img.shape)\n",
    "        fi = np.pad(fi, ((pd,pd), (pd,pd)), 'reflect')\n",
    "        cfi = utils.im2col(fi, [patch_size, patch_size])\n",
    "        \n",
    "        kidxs.append(np.sum((cfi - cimg)**2,axis=0))\n",
    "        \n",
    "    kidxs = np.argmin(np.array(kidxs), axis=0)\n",
    "    \n",
    "#     kidxs = np.argmin((cnimg.T @ kernels - cimg[patch_size**2//2, :][:,None])**2, axis = 1)\n",
    "    \n",
    "    del cnimg\n",
    "    del cimg\n",
    "    del nimg\n",
    "    \n",
    "    return kidxs"
   ]
  },
  {
   "cell_type": "markdown",
   "metadata": {},
   "source": [
    "# TESTING"
   ]
  },
  {
   "cell_type": "code",
   "execution_count": 16,
   "metadata": {},
   "outputs": [
    {
     "name": "stdout",
     "output_type": "stream",
     "text": [
      "image ./resources/building_small.jpg loaded\n",
      "(36, 1225)\n",
      "28.792639060985834\n"
     ]
    },
    {
     "data": {
      "application/vnd.jupyter.widget-view+json": {
       "model_id": "cb5d780a4e454f9b8abfae2c6b91bd70",
       "version_major": 2,
       "version_minor": 0
      },
      "text/plain": [
       "HBox(children=(IntProgress(value=0, max=36), HTML(value='')))"
      ]
     },
     "metadata": {},
     "output_type": "display_data"
    },
    {
     "name": "stdout",
     "output_type": "stream",
     "text": [
      "\n"
     ]
    }
   ],
   "source": [
    "# img = utils.loadImage('./resources/blu.png', 'gray')\n",
    "# img = utils.loadImage('./resources/building_small.jpg', 'gray')\n",
    "# img = np.array(img, dtype=np.float32)\n",
    "# img = utils.linearBlur(img, 11, 45)\n",
    "# cv2.imwrite('blurredbuilding11-45.jpg', img)\n",
    "# plt.imshow(img, cmap='gray')\n",
    "# plt.savefig('blirredbuilding11-45.jpg', bbox_inches='tight')\n",
    "# noise, noised_img = pinkNoise.addNoise(img, exponent = -1)\n",
    "# cv2.imwrite('noisedbuilding.jpg', noised_img)\n",
    "# kernels = generateKernels(14, 5, 35)\n",
    "# sel_kernels = getImageBlurEstimates(img, img,kernels, 35)# _, plots = plt.subplots(1,2,figsize=(20,20))\n",
    "# sel_kernels = getImageBlurEstimate(img, 35)# _, plots = plt.subplots(1,2,figsize=(20,20))\n",
    "\n",
    "# print(sel_kernels.shape)\n",
    "# # plots[0].imshow(noise, cmap = 'gray')\n",
    "# # plots[1].imshow(noised_img, cmap = 'gray')\n",
    "# # plt.show()\n",
    "# print(sel_kernels[:,1500].reshape(21,21))\n"
   ]
  },
  {
   "cell_type": "code",
   "execution_count": 18,
   "metadata": {},
   "outputs": [
    {
     "name": "stdout",
     "output_type": "stream",
     "text": [
      "(array([ 0,  1,  2,  3,  4,  5,  6,  7,  8,  9, 10, 11, 12, 13, 14, 15, 16,\n",
      "       17, 18, 19, 20, 21, 22, 23, 24, 25, 26, 27, 28, 29, 30, 31, 32, 33,\n",
      "       34, 35]), array([ 281,  790,  331,  873, 1138, 1886, 2627, 3101, 5911, 8084, 3614,\n",
      "       3964, 3532, 2488, 2310, 4990, 6066, 6682, 1765, 1568,  135,  205,\n",
      "        174, 1915,  294,  542,  422,  191, 3210,  315,  343, 2076,  956,\n",
      "       1640, 1169, 6312]))\n",
      "angle = 0 degrees --> count = 281\n",
      "angle = 5 degrees --> count = 790\n",
      "angle = 10 degrees --> count = 331\n",
      "angle = 15 degrees --> count = 873\n",
      "angle = 20 degrees --> count = 1138\n",
      "angle = 25 degrees --> count = 1886\n",
      "angle = 30 degrees --> count = 2627\n",
      "angle = 35 degrees --> count = 3101\n",
      "angle = 40 degrees --> count = 5911\n",
      "angle = 45 degrees --> count = 8084\n",
      "angle = 50 degrees --> count = 3614\n",
      "angle = 55 degrees --> count = 3964\n",
      "angle = 60 degrees --> count = 3532\n",
      "angle = 65 degrees --> count = 2488\n",
      "angle = 70 degrees --> count = 2310\n",
      "angle = 75 degrees --> count = 4990\n",
      "angle = 80 degrees --> count = 6066\n",
      "angle = 85 degrees --> count = 6682\n",
      "angle = 90 degrees --> count = 1765\n",
      "angle = 95 degrees --> count = 1568\n",
      "angle = 100 degrees --> count = 135\n",
      "angle = 105 degrees --> count = 205\n",
      "angle = 110 degrees --> count = 174\n",
      "angle = 115 degrees --> count = 1915\n",
      "angle = 120 degrees --> count = 294\n",
      "angle = 125 degrees --> count = 542\n",
      "angle = 130 degrees --> count = 422\n",
      "angle = 135 degrees --> count = 191\n",
      "angle = 140 degrees --> count = 3210\n",
      "angle = 145 degrees --> count = 315\n",
      "angle = 150 degrees --> count = 343\n",
      "angle = 155 degrees --> count = 2076\n",
      "angle = 160 degrees --> count = 956\n",
      "angle = 165 degrees --> count = 1640\n",
      "angle = 170 degrees --> count = 1169\n",
      "angle = 175 degrees --> count = 6312\n"
     ]
    }
   ],
   "source": [
    "# print(np.unique(sel_kernels, return_counts=True))\n",
    "# print(np.sum(sel_kernes==114))\n",
    "# kernels[:, sel_kernels][:,-1].reshape(21,21)\n",
    "# x, y = np.unique(sel_kernels, return_counts=True)\n",
    "# for i, ind in enumerate(x):\n",
    "#     print('angle =',i*5, 'degrees --> count =', y[ind])\n",
    "    \n"
   ]
  },
  {
   "cell_type": "code",
   "execution_count": 8,
   "metadata": {},
   "outputs": [],
   "source": [
    "# magnitude, directions = getImageBlurEstimate(img[200:235,200:235])\n",
    "# # magnitude, directions = findPatchKernel(img[100:100,200:350])\n",
    "# print(magnitude, directions)"
   ]
  },
  {
   "cell_type": "code",
   "execution_count": 9,
   "metadata": {},
   "outputs": [],
   "source": [
    "# blurLegend(directions, magnitude)\n",
    "# np.set_printoptions(threshold=sys.maxsize)\n",
    "# print((directions==45).sum()/(150*150))"
   ]
  },
  {
   "cell_type": "code",
   "execution_count": 19,
   "metadata": {},
   "outputs": [
    {
     "data": {
      "text/plain": [
       "array([1, 6, 1, 6, 6, 6, 6, 1, 6, 1, 8, 6, 1, 6, 8, 6, 1, 6, 6, 4, 1, 6,\n",
       "       1, 6, 4, 1, 6, 1, 6, 4, 6, 6, 6, 6, 8, 1, 4, 6, 1, 6, 8, 1, 6, 6,\n",
       "       4, 6, 6, 6, 6, 4, 6, 6, 1, 1, 6, 4, 1, 6, 4, 6, 6, 4, 8, 6, 1, 1,\n",
       "       4, 6, 6, 4, 6, 4, 1, 4, 4, 6, 6, 6, 6, 4, 8, 1, 6, 1, 6, 6, 1, 4,\n",
       "       8, 6, 6, 6, 1, 1, 8, 6, 6, 8, 6, 6])"
      ]
     },
     "execution_count": 19,
     "metadata": {},
     "output_type": "execute_result"
    }
   ],
   "source": [
    "A=np.random.uniform(size=(10, 9))\n",
    "B=np.random.uniform(size=(9,100))\n",
    "\n",
    "c = np.einsum('ij,jk->ijk', A,B)\n",
    "np.argmin(np.sum(np.abs(c - B.reshape((1,9,100))), axis=1), axis=0)"
   ]
  },
  {
   "cell_type": "code",
   "execution_count": null,
   "metadata": {},
   "outputs": [],
   "source": []
  }
 ],
 "metadata": {
  "kernelspec": {
   "display_name": "Python 3",
   "language": "python",
   "name": "python3"
  },
  "language_info": {
   "codemirror_mode": {
    "name": "ipython",
    "version": 3
   },
   "file_extension": ".py",
   "mimetype": "text/x-python",
   "name": "python",
   "nbconvert_exporter": "python",
   "pygments_lexer": "ipython3",
   "version": "3.6.8"
  }
 },
 "nbformat": 4,
 "nbformat_minor": 4
}
