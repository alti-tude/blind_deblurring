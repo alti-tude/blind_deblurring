{
 "cells": [
  {
   "cell_type": "code",
   "execution_count": 1,
   "metadata": {},
   "outputs": [],
   "source": [
    "import cv2\n",
    "import numpy as np\n",
    "from importnb import Notebook\n",
    "import matplotlib.pyplot as plt\n",
    "import matplotlib as mpl\n",
    "import numpy.fft as fft\n",
    "import numpy.matlib\n",
    "from skimage.transform import rotate\n",
    "import sys"
   ]
  },
  {
   "cell_type": "code",
   "execution_count": 2,
   "metadata": {},
   "outputs": [],
   "source": [
    "with Notebook(): \n",
    "        import utils\n",
    "        import pinkNoise"
   ]
  },
  {
   "cell_type": "code",
   "execution_count": 3,
   "metadata": {},
   "outputs": [],
   "source": [
    "def blurLegend(directions, magnitude):\n",
    "    norm = mpl.colors.Normalize(0, np.pi)\n",
    "    plt.imshow(norm(directions))\n",
    "    plt.show()"
   ]
  },
  {
   "cell_type": "code",
   "execution_count": 4,
   "metadata": {},
   "outputs": [],
   "source": [
    "def makePatchKernel(img, r_min=5, r_max=31, inc_th=15):\n",
    "    nr = r_max - r_min\n",
    "    nt = int(180/inc_th)\n",
    "    ind = []\n",
    "    kernels = []\n",
    "    ker_centre = (r_max*r_max)//2\n",
    "#     kernels = np.zeros(nr*nt, r_max, img.shape[0]*img.shape[1])\n",
    "    for r in range(r_min, r_max+1, 2):\n",
    "        for theta in range(0, 180, inc_th):\n",
    "            ind.append((r,theta))\n",
    "            temp = np.zeros((r_max*r_max))\n",
    "            ker = utils.blurKernel(r, theta).ravel()\n",
    "#             print(temp[ker_centre-ker.shape[0]//2:ker_centre-ker.shape[0]//2].shape)\n",
    "            temp[ker_centre-ker.shape[0]//2:ker_centre+ker.shape[0]//2+1] = ker\n",
    "            kernels.append(temp)\n",
    "#             print(\"\\n\\n\", r, theta)\n",
    "#             print(ker)\n",
    "    return np.array(kernels), np.array(ind)"
   ]
  },
  {
   "cell_type": "code",
   "execution_count": 5,
   "metadata": {},
   "outputs": [],
   "source": [
    "def findPatchKernel(img, kernels, ind, r_min=5, r_max=31, inc_ang=15):\n",
    "    mse = float('inf')\n",
    "    opt_r, opt_theta = 1, 0\n",
    "    if r_min % 2==0:\n",
    "        r_min += 1\n",
    "    if r_max % 2==0:\n",
    "        r_max += 1\n",
    "#     print(img.shape)\n",
    "# #     kernels, ind = makePatchKernel(img, r_min, r_max, inc_ang)\n",
    "#     pad_img = np.pad(img, ((r_max//2, r_max//2), (r_max//2, r_max//2)), 'constant', constant_values=(0, 0))\n",
    "#     col_img = utils.im2col(pad_img, (r_max, r_max))\n",
    "# #     out = kernels@col_img - img.ravel()\n",
    "#     out = np.sum(np.power(kernels@col_img - img.ravel(), 2), axis=1)\n",
    "#     print(out.shape)\n",
    "    for r in range(r_min, r_max, 2):\n",
    "        for theta in range(0, 180, inc_ang):\n",
    "            blur = utils.linearBlur(img, r, theta)\n",
    "            err = utils.MSELoss(img, blur)\n",
    "            if err < mse:\n",
    "                mse = err\n",
    "        opt_r, opt_theta = r, theta\n",
    "\n",
    "    return ind[out.argmax()]"
   ]
  },
  {
   "cell_type": "code",
   "execution_count": 6,
   "metadata": {},
   "outputs": [],
   "source": [
    "def getImageBlurEstimate(img, patch_size = 31):\n",
    "    kernels, ind = makePatchKernel(img)    \n",
    "    blurField = np.zeros(img.shape)\n",
    "    magnitude = np.zeros(img.shape)\n",
    "    pd = patch_size // 2\n",
    "    img = np.pad(img, ((pd, pd), (pd, pd)), 'reflect')\n",
    "    from tqdm import tqdm_notebook as tqdm\n",
    "    \n",
    "    pd+=1\n",
    "    for i in tqdm(range(pd, img.shape[0]-pd)):\n",
    "        for j in range(pd, img.shape[1]-pd):\n",
    "            print(i, j)\n",
    "#             print(i-pd, j-pd, end = '\\r')\n",
    "#             print(img[i-pd:i+pd+1,j-pd:j+pd+1].shape)\n",
    "            magnitude[i-pd,j-pd], blurField[i-pd,j-pd] = findPatchKernel(img[i-pd:i+pd+1,j-pd:j+pd+1], kernels, ind)\n",
    "#             magnitude[i-pd,j-pd], blurField[i-pd,j-pd] = findPatchKernel(img[i-pd:i+pd,j-pd:j+pd], 7, 8, 15)\n",
    "\n",
    "    return magnitude, blurField"
   ]
  },
  {
   "cell_type": "markdown",
   "metadata": {},
   "source": [
    "# TESTING"
   ]
  },
  {
   "cell_type": "code",
   "execution_count": 7,
   "metadata": {},
   "outputs": [],
   "source": [
    "# img = utils.loadImage('./resources/blu.png', 'gray')\n",
    "# img = utils.loadImage('./resources/building.jpg', 'gray')\n",
    "# blurred_img = utils.linearBlur(img, 10, 45)\n",
    "# noise, noised_img = pinkNoise.addNoise(blurred_img, exponent = -1)\n",
    "\n",
    "# _, plots = plt.subplots(1,2,figsize=(20,20))\n",
    "# plots[0].imshow(noise, cmap = 'gray')\n",
    "# plots[1].imshow(noised_img, cmap = 'gray')\n",
    "# plt.show()\n",
    "\n"
   ]
  },
  {
   "cell_type": "code",
   "execution_count": 8,
   "metadata": {},
   "outputs": [],
   "source": [
    "# magnitude, directions = getImageBlurEstimate(img[200:235,200:235])\n",
    "# # magnitude, directions = findPatchKernel(img[100:100,200:350])\n",
    "# print(magnitude, directions)"
   ]
  },
  {
   "cell_type": "code",
   "execution_count": 9,
   "metadata": {},
   "outputs": [],
   "source": [
    "# blurLegend(directions, magnitude)\n",
    "# np.set_printoptions(threshold=sys.maxsize)\n",
    "# print((directions==45).sum()/(150*150))"
   ]
  }
 ],
 "metadata": {
  "kernelspec": {
   "display_name": "Python 3",
   "language": "python",
   "name": "python3"
  },
  "language_info": {
   "codemirror_mode": {
    "name": "ipython",
    "version": 3
   },
   "file_extension": ".py",
   "mimetype": "text/x-python",
   "name": "python",
   "nbconvert_exporter": "python",
   "pygments_lexer": "ipython3",
   "version": "3.7.3"
  }
 },
 "nbformat": 4,
 "nbformat_minor": 4
}
