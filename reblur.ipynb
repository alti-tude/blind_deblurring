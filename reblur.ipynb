{
 "cells": [
  {
   "cell_type": "code",
   "execution_count": 1,
   "metadata": {},
   "outputs": [],
   "source": [
    "import cv2\n",
    "import numpy as np\n",
    "from importnb import Notebook\n",
    "import matplotlib.pyplot as plt\n",
    "import matplotlib as mpl\n",
    "import numpy.fft as fft\n",
    "import numpy.matlib\n",
    "from skimage.transform import rotate\n",
    "import sys"
   ]
  },
  {
   "cell_type": "code",
   "execution_count": 2,
   "metadata": {},
   "outputs": [],
   "source": [
    "with Notebook(): \n",
    "        import utils\n",
    "        import pinkNoise"
   ]
  },
  {
   "cell_type": "code",
   "execution_count": 3,
   "metadata": {},
   "outputs": [],
   "source": [
    "def blurLegend(directions, magnitude):\n",
    "    norm = mpl.colors.Normalize(0, np.pi)\n",
    "    plt.imshow(norm(directions))\n",
    "    plt.show()"
   ]
  },
  {
   "cell_type": "code",
   "execution_count": 4,
   "metadata": {},
   "outputs": [],
   "source": [
    "def findPatchKernel(img, r_min=10, r_max=30, inc_ang=5):\n",
    "    mse = float('inf')\n",
    "    opt_r, opt_theta = 1, 0\n",
    "    if r_min % 2==0:\n",
    "        r_min += 1\n",
    "        \n",
    "    for r in range(r_min, r_max, 2):\n",
    "        for theta in range(0, 180, inc_ang):\n",
    "            blur = utils.linearBlur(img, r, theta)\n",
    "            err = utils.MSELoss(img, blur)\n",
    "            if err < mse:\n",
    "                mse = err\n",
    "                opt_r, opt_theta = r, theta\n",
    "\n",
    "    return opt_r, opt_theta"
   ]
  },
  {
   "cell_type": "code",
   "execution_count": 5,
   "metadata": {},
   "outputs": [],
   "source": [
    "def getImageBlurEstimate(img, patch_size = 30):\n",
    "    blurField = np.zeros(img.shape)\n",
    "    magnitude = np.zeros(img.shape)\n",
    "    pd = patch_size // 2\n",
    "    img = np.pad(img, ((pd, pd), (pd, pd)), 'reflect')\n",
    "    from tqdm import tqdm_notebook as tqdm\n",
    "\n",
    "    for i in tqdm(range(pd, img.shape[0]-pd)):\n",
    "        for j in range(pd, img.shape[1]-pd):\n",
    "#             print(i-pd, j-pd, end = '\\r')\n",
    "            magnitude[i-pd,j-pd], blurField[i-pd,j-pd] = findPatchKernel(img[i-pd:i+pd,j-pd:j+pd], 7, 8, 15)\n",
    "\n",
    "    return magnitude, blurField"
   ]
  },
  {
   "cell_type": "markdown",
   "metadata": {},
   "source": [
    "# TESTING"
   ]
  },
  {
   "cell_type": "code",
   "execution_count": 6,
   "metadata": {},
   "outputs": [
    {
     "name": "stdout",
     "output_type": "stream",
     "text": [
      "image ./resources/blu.png loaded\n"
     ]
    }
   ],
   "source": [
    "img = utils.loadImage('./resources/blu.png', 'gray')\n",
    "# img = utils.loadImage('./resources/building.jpg', 'gray')\n",
    "# blurred_img = utils.linearBlur(img, 10, 45)\n",
    "# noise, noised_img = pinkNoise.addNoise(blurred_img, exponent = -1)\n",
    "\n",
    "# _, plots = plt.subplots(1,2,figsize=(20,20))\n",
    "# plots[0].imshow(noise, cmap = 'gray')\n",
    "# plots[1].imshow(noised_img, cmap = 'gray')\n",
    "# plt.show()\n",
    "\n"
   ]
  },
  {
   "cell_type": "code",
   "execution_count": 8,
   "metadata": {},
   "outputs": [
    {
     "name": "stderr",
     "output_type": "stream",
     "text": [
      "/home/sankalp/.local/lib/python3.7/site-packages/ipykernel_launcher.py:8: TqdmDeprecationWarning: This function will be removed in tqdm==5.0.0\n",
      "Please use `tqdm.notebook.tqdm` instead of `tqdm.tqdm_notebook`\n",
      "  \n"
     ]
    },
    {
     "data": {
      "application/vnd.jupyter.widget-view+json": {
       "model_id": "00df545757b94cc5b33146ae71bb8c48",
       "version_major": 2,
       "version_minor": 0
      },
      "text/plain": [
       "HBox(children=(IntProgress(value=0, max=150), HTML(value='')))"
      ]
     },
     "metadata": {},
     "output_type": "display_data"
    },
    {
     "name": "stdout",
     "output_type": "stream",
     "text": [
      "\n"
     ]
    }
   ],
   "source": [
    "magnitude, directions = getImageBlurEstimate(img[100:250,200:350])\n"
   ]
  },
  {
   "cell_type": "code",
   "execution_count": null,
   "metadata": {},
   "outputs": [],
   "source": [
    "# blurLegend(directions, magnitude)\n",
    "# np.set_printoptions(threshold=sys.maxsize)\n",
    "# print((directions==45).sum()/(150*150))"
   ]
  },
  {
   "cell_type": "code",
   "execution_count": null,
   "metadata": {},
   "outputs": [],
   "source": []
  },
  {
   "cell_type": "code",
   "execution_count": null,
   "metadata": {},
   "outputs": [],
   "source": []
  }
 ],
 "metadata": {
  "kernelspec": {
   "display_name": "Python 3",
   "language": "python",
   "name": "python3"
  },
  "language_info": {
   "codemirror_mode": {
    "name": "ipython",
    "version": 3
   },
   "file_extension": ".py",
   "mimetype": "text/x-python",
   "name": "python",
   "nbconvert_exporter": "python",
   "pygments_lexer": "ipython3",
   "version": "3.7.3"
  }
 },
 "nbformat": 4,
 "nbformat_minor": 4
}
