{
 "cells": [
  {
   "cell_type": "code",
   "execution_count": 1,
   "metadata": {},
   "outputs": [],
   "source": [
    "import cv2\n",
    "import numpy as np\n",
    "from importnb import Notebook\n",
    "import matplotlib.pyplot as plt\n",
    "import matplotlib as mpl\n",
    "import numpy.fft as fft\n",
    "import numpy.matlib\n",
    "from skimage.transform import rotate\n",
    "import sys\n",
    "from tqdm import tqdm_notebook as tqdm"
   ]
  },
  {
   "cell_type": "code",
   "execution_count": 2,
   "metadata": {},
   "outputs": [],
   "source": [
    "with Notebook(): \n",
    "        import utils\n",
    "        import pinkNoise"
   ]
  },
  {
   "cell_type": "code",
   "execution_count": 3,
   "metadata": {},
   "outputs": [],
   "source": [
    "def blurLegend(directions, magnitude):\n",
    "    norm = mpl.colors.Normalize(0, np.pi)\n",
    "    plt.imshow(norm(directions))\n",
    "    plt.show()"
   ]
  },
  {
   "cell_type": "code",
   "execution_count": 16,
   "metadata": {},
   "outputs": [],
   "source": [
    "def makePatchKernel(img, r_min=5, r_max=31, inc_th=15):\n",
    "    nr = r_max - r_min\n",
    "    nt = int(180/inc_th)\n",
    "    ind = []\n",
    "    kernels = []\n",
    "    ker_centre = (r_max*r_max)//2\n",
    "#     kernels = np.zeros(nr*nt, r_max, img.shape[0]*img.shape[1])\n",
    "    for r in range(r_min, r_max+1, 2):\n",
    "        for theta in range(0, 180, inc_th):\n",
    "            ind.append((r,theta))\n",
    "            temp = np.zeros((r_max*r_max))\n",
    "            ker = utils.blurKernel(r, theta).ravel()\n",
    "#             print(temp[ker_centre-ker.shape[0]//2:ker_centre-ker.shape[0]//2].shape)\n",
    "            temp[ker_centre-ker.shape[0]//2:ker_centre+ker.shape[0]//2+1] = ker\n",
    "            kernels.append(temp)\n",
    "#             print(\"\\n\\n\", r, theta)\n",
    "#             print(ker)\n",
    "    return np.array(kernels), np.array(ind)"
   ]
  },
  {
   "cell_type": "code",
   "execution_count": 17,
   "metadata": {},
   "outputs": [],
   "source": [
    "def generateKernels(r_max, inc_angle, patch_size, r_min=5):\n",
    "    if r_min % 2==0:\n",
    "        r_min += 1\n",
    "        \n",
    "    out = []\n",
    "    for mag in range(r_max, r_max+1, 2):\n",
    "        for ang in range(0, 180, inc_angle):\n",
    "            kernel = utils.blurKernel(mag, ang)\n",
    "            pd = (patch_size- kernel.shape[0])//2\n",
    "            kernel = np.pad(kernel, ((pd, patch_size- kernel.shape[0]-pd), (pd, patch_size- kernel.shape[0]-pd)), 'constant', constant_values=(0, 0))\n",
    "            out.append(kernel.ravel())\n",
    "    \n",
    "    print(np.array(out).shape)\n",
    "    return np.array(out).T ##shape  patch_size x mag*ang"
   ]
  },
  {
   "cell_type": "code",
   "execution_count": 18,
   "metadata": {},
   "outputs": [],
   "source": [
    "def getImageBlurEstimates(img, oimg, kernels, patch_size):\n",
    "    pd = patch_size//2\n",
    "    _,nimg = pinkNoise.addNoise(img, -1)\n",
    "    nimg = np.pad(nimg, ((pd,pd), (pd,pd)), 'reflect')\n",
    "    oimg = np.pad(img, ((pd,pd), (pd,pd)), 'reflect')\n",
    "    \n",
    " \n",
    "    cimg = utils.im2col(oimg, [patch_size, patch_size])\n",
    "    cnimg = utils.im2col(nimg, [patch_size, patch_size])\n",
    "    kidxs = []\n",
    "    for k in tqdm(range(kernels.shape[1])):\n",
    "        fi = np.sum(kernels[:,k][:,None] * cnimg, axis=0).reshape(img.shape)\n",
    "        fi = np.pad(fi, ((pd,pd), (pd,pd)), 'reflect')\n",
    "        cfi = utils.im2col(fi, [patch_size, patch_size])\n",
    "        \n",
    "        kidxs.append(np.sum((cfi - cimg)**2,axis=0))\n",
    "        \n",
    "    kidxs = np.argmin(np.array(kidxs), axis=0)\n",
    "    \n",
    "#     kidxs = np.argmin((cnimg.T @ kernels - cimg[patch_size**2//2, :][:,None])**2, axis = 1)\n",
    "    \n",
    "    del cnimg\n",
    "    del cimg\n",
    "    del nimg\n",
    "    \n",
    "    return kidxs"
   ]
  },
  {
   "cell_type": "code",
   "execution_count": 19,
   "metadata": {},
   "outputs": [],
   "source": [
    "def findPatchKernel(img, r_min=5, r_max=31, inc_ang=15):\n",
    "    mse = float('inf')\n",
    "    opt_r, opt_theta = 1, 0\n",
    "    if r_min % 2==0:\n",
    "        r_min += 1\n",
    "    if r_max % 2==0:\n",
    "        r_max += 1\n",
    "#     print(img.shape)\n",
    "# #     kernels, ind = makePatchKernel(img, r_min, r_max, inc_ang)\n",
    "#     pad_img = np.pad(img, ((r_max//2, r_max//2), (r_max//2, r_max//2)), 'constant', constant_values=(0, 0))\n",
    "#     col_img = utils.im2col(pad_img, (r_max, r_max))\n",
    "# #     out = kernels@col_img - img.ravel()\n",
    "#     out = np.sum(np.power(kernels@col_img - img.ravel(), 2), axis=1)\n",
    "#     print(out.shape)\n",
    "    for r in range(r_min, r_max, 2):\n",
    "        for theta in range(0, 180, inc_ang):\n",
    "            blur = utils.linearBlur(img, r, theta)\n",
    "            err = utils.MSELoss(img, blur)\n",
    "            if err < mse:\n",
    "                mse = err\n",
    "        opt_r, opt_theta = r, theta\n",
    "\n",
    "    return opt_r, opt_theta"
   ]
  },
  {
   "cell_type": "code",
   "execution_count": 20,
   "metadata": {},
   "outputs": [],
   "source": [
    "def getImageBlurEstimate(img, patch_size = 31):\n",
    "    blurField = np.zeros(img.shape)\n",
    "    magnitude = np.zeros(img.shape)\n",
    "    pd = patch_size // 2\n",
    "    img = np.pad(img, ((pd, pd), (pd, pd)), 'reflect')\n",
    "    from tqdm import tqdm_notebook as tqdm\n",
    "    \n",
    "    pd+=1\n",
    "    for i in tqdm(range(pd, img.shape[0]-pd)):\n",
    "        for j in range(pd, img.shape[1]-pd):\n",
    "#             print(i-pd, j-pd, end = '\\r')\n",
    "#             print(img[i-pd:i+pd+1,j-pd:j+pd+1].shape)\n",
    "            magnitude[i-pd,j-pd], blurField[i-pd,j-pd] = findPatchKernel(img[i-pd:i+pd+1,j-pd:j+pd+1])\n",
    "#             magnitude[i-pd,j-pd], blurField[i-pd,j-pd] = findPatchKernel(img[i-pd:i+pd,j-pd:j+pd], 7, 8, 15)\n",
    "\n",
    "    return magnitude, blurField"
   ]
  },
  {
   "cell_type": "markdown",
   "metadata": {},
   "source": [
    "# TESTING"
   ]
  },
  {
   "cell_type": "code",
   "execution_count": 22,
   "metadata": {},
   "outputs": [],
   "source": [
    "# # img = utils.loadImage('./resources/blu.png', 'gray')\n",
    "# img = utils.loadImage('./resources/building_small.jpg', 'gray')\n",
    "# img = np.array(img, dtype=np.float32)\n",
    "# img = utils.linearBlur(img, 11, 45)\n",
    "# # noise, noised_img = pinkNoise.addNoise(blurred_img, exponent = -1)\n",
    "# kernels = generateKernels(14, 5, 35)\n",
    "# sel_kernels = getImageBlurEstimates(img, img,kernels, 35)# _, plots = plt.subplots(1,2,figsize=(20,20))\n",
    "# sel_kernels = getImageBlurEstimate(img, 35)# _, plots = plt.subplots(1,2,figsize=(20,20))\n",
    "\n",
    "# print(sel_kernels.shape)\n",
    "# # plots[0].imshow(noise, cmap = 'gray')\n",
    "# # plots[1].imshow(noised_img, cmap = 'gray')\n",
    "# # plt.show()\n",
    "# print(sel_kernels[:,1500].reshape(21,21))\n"
   ]
  },
  {
   "cell_type": "code",
   "execution_count": 23,
   "metadata": {},
   "outputs": [],
   "source": [
    "# print(np.unique(sel_kernels, return_counts=True))\n",
    "# # print(np.sum(sel_kernes==114))\n",
    "# kernels[:, sel_kernels][:,-1].reshape(21,21)"
   ]
  },
  {
   "cell_type": "code",
   "execution_count": 8,
   "metadata": {},
   "outputs": [],
   "source": [
    "# magnitude, directions = getImageBlurEstimate(img[200:235,200:235])\n",
    "# # magnitude, directions = findPatchKernel(img[100:100,200:350])\n",
    "# print(magnitude, directions)"
   ]
  },
  {
   "cell_type": "code",
   "execution_count": 9,
   "metadata": {},
   "outputs": [],
   "source": [
    "# blurLegend(directions, magnitude)\n",
    "# np.set_printoptions(threshold=sys.maxsize)\n",
    "# print((directions==45).sum()/(150*150))"
   ]
  },
  {
   "cell_type": "code",
   "execution_count": 19,
   "metadata": {},
   "outputs": [
    {
     "data": {
      "text/plain": [
       "array([1, 6, 1, 6, 6, 6, 6, 1, 6, 1, 8, 6, 1, 6, 8, 6, 1, 6, 6, 4, 1, 6,\n",
       "       1, 6, 4, 1, 6, 1, 6, 4, 6, 6, 6, 6, 8, 1, 4, 6, 1, 6, 8, 1, 6, 6,\n",
       "       4, 6, 6, 6, 6, 4, 6, 6, 1, 1, 6, 4, 1, 6, 4, 6, 6, 4, 8, 6, 1, 1,\n",
       "       4, 6, 6, 4, 6, 4, 1, 4, 4, 6, 6, 6, 6, 4, 8, 1, 6, 1, 6, 6, 1, 4,\n",
       "       8, 6, 6, 6, 1, 1, 8, 6, 6, 8, 6, 6])"
      ]
     },
     "execution_count": 19,
     "metadata": {},
     "output_type": "execute_result"
    }
   ],
   "source": [
    "A=np.random.uniform(size=(10, 9))\n",
    "B=np.random.uniform(size=(9,100))\n",
    "\n",
    "c = np.einsum('ij,jk->ijk', A,B)\n",
    "np.argmin(np.sum(np.abs(c - B.reshape((1,9,100))), axis=1), axis=0)"
   ]
  },
  {
   "cell_type": "code",
   "execution_count": null,
   "metadata": {},
   "outputs": [],
   "source": []
  }
 ],
 "metadata": {
  "kernelspec": {
   "display_name": "Python 3",
   "language": "python",
   "name": "python3"
  },
  "language_info": {
   "codemirror_mode": {
    "name": "ipython",
    "version": 3
   },
   "file_extension": ".py",
   "mimetype": "text/x-python",
   "name": "python",
   "nbconvert_exporter": "python",
   "pygments_lexer": "ipython3",
   "version": "3.7.3"
  }
 },
 "nbformat": 4,
 "nbformat_minor": 4
}
